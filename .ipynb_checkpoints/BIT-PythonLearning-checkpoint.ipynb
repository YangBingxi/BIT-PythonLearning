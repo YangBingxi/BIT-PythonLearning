{
 "cells": [
  {
   "cell_type": "markdown",
   "metadata": {},
   "source": [
    "\n",
    "# 北京理工大学 Python语言程序设计    "
   ]
  },
  {
   "cell_type": "markdown",
   "metadata": {},
   "source": [
    "\n",
    "##  样例一 温度转换程序"
   ]
  },
  {
   "cell_type": "code",
   "execution_count": 6,
   "metadata": {},
   "outputs": [
    {
     "name": "stdout",
     "output_type": "stream",
     "text": [
      "请输入带有符号的温度值: 12C\n",
      "转换后的温度是53.60F\n"
     ]
    }
   ],
   "source": [
    "#TempConvert.py\n",
    "TempStr = input(\"请输入带有符号的温度值: \")\n",
    "if TempStr[-1] in ['F', 'f']:\n",
    "    C = (eval(TempStr[0:-1]) - 32)/1.8\n",
    "    print(\"转换后的温度是{:.2f}C\".format(C))\n",
    "elif TempStr[-1] in ['C', 'c']:\n",
    "    F = 1.8*eval(TempStr[0:-1]) + 32\n",
    "    print(\"转换后的温度是{:.2f}F\".format(F))\n",
    "else:\n",
    "    print(\"输入格式错误\")"
   ]
  },
  {
   "cell_type": "markdown",
   "metadata": {},
   "source": [
    "## 样例二 绘图 "
   ]
  },
  {
   "cell_type": "code",
   "execution_count": 6,
   "metadata": {},
   "outputs": [],
   "source": [
    "#PythonDraw.py\n",
    "import turtle\n",
    "turtle.setup(650, 350, 200, 200)\n",
    "turtle.penup()\n",
    "turtle.fd(-250)\n",
    "turtle.pendown()\n",
    "turtle.pensize(25)\n",
    "turtle.pencolor(\"red\")\n",
    "turtle.seth(-40)\n",
    "for i in range(4):\n",
    "    turtle.circle(40, 80)\n",
    "    turtle.circle(-40, 80)\n",
    "turtle.circle(40, 80/2)\n",
    "turtle.fd(40)\n",
    "turtle.circle(16, 180)\n",
    "turtle.fd(40 * 2/3)\n",
    "turtle.done()"
   ]
  },
  {
   "cell_type": "markdown",
   "metadata": {},
   "source": [
    "### turtle函数库"
   ]
  },
  {
   "cell_type": "markdown",
   "metadata": {},
   "source": [
    "```turtle.setup(width, height, startx, starty)```\n",
    "- setup()设置窗体大小及位置\n",
    "- 4个参数中后两个可选，没有后两个参数的默认窗体在屏幕中心\n",
    "- setup()不是必须的   \n",
    "---\n",
    "turtle.goto( x, y)\n",
    "![](https://note.youdao.com/yws/res/9439/WEBRESOURCE2ab70cb2502c757e9a2eb48360e0908a)\n",
    "\n",
    "\n",
    "turtle.seth(angle)\n",
    "- seth()改变海龟行进方向\n",
    "- angle为绝对度数\n",
    "- seth()只改变方向但不行进\n",
    "\n",
    "![](https://note.youdao.com/yws/res/9440/WEBRESOURCE525fccacf18c053d0595a46e5168ce27)\n",
    "\n",
    "\n",
    "turtle.fd(distance)\n",
    "Move the turtle forward by the specified distance.\n",
    "\n",
    "\n",
    "turtle.left(angle)\n",
    "Turn turtle left by angle units.\n",
    "\n",
    "turtle.right(angle)\n",
    "Turn turtle right by angle units.\n",
    "\n",
    "#### 画笔控制函数\n",
    "画笔操作后一直有效，一般成对出现\n",
    "画笔设置后一直有效，直至下次重新设置\n",
    "- turtle.penup() 别名 turtle.pu()\n",
    "抬起画笔，海龟在飞行\n",
    "- turtle.pendown() 别名 turtle.pd()\n",
    "落下画笔，海龟在爬行  \n",
    "- turtle.pensize(width) 别名 turtle.width(width)\n",
    "画笔宽度，海龟的腰围\n",
    "- turtle.pencolor(color) color为颜色字符串或r,g,b值\n",
    "画笔颜色，海龟在涂装\n",
    "\n",
    "pencolor(color)的color参与可以有三种形式\n",
    "- 颜色字符串 ：turtle.pencolor(\"purple\")\n",
    "- RGB的小数值：turtle.pencolor(0.63, 0.13, 0.94)\n",
    "- RGB的元组值：turtle.pencolor((0.63,0.13,0.94))\n",
    "\n",
    "### 运动控制函数\n",
    "控制海龟行进：走直线 & 走曲线\n",
    "- turtle.forward(d) 别名 turtle.fd(d)\n",
    "向前行进，海龟走直线\n",
    "- d: 行进距离，可以为负数\n",
    "\n",
    "- turtle.circle(r, extent=None)\n",
    "根据半径r绘制extent角度的弧形\n",
    "- r: 默认圆心在海龟左侧r距离的位置\n",
    "- extent: 绘制角度，默认是360度整圆\n",
    "\n",
    "- turtle.forward(d) 别名 turtle.fd(d)\n",
    "向前行进，海龟走直线\n",
    "- d: 行进距离，可以为负数\n",
    "\n",
    "###  方向控制函数\n",
    "控制海龟面对方向: 绝对角度 & 海龟角度\n",
    "turtle.setheading(angle) 别名 turtle.seth(angle)\n",
    "改变行进方向，海龟走角度\n",
    "- angle: 行进方向的绝对角度\n",
    "\n",
    "- turtle.left(angle) 海龟向左转\n",
    "- turtle.right(angle) 海龟向右转\n",
    "- angle: 在海龟当前行进方向上旋转的角度\n"
   ]
  },
  {
   "cell_type": "markdown",
   "metadata": {},
   "source": [
    "### RGB色彩模式\n",
    "#### 由三种颜色构成的万物色\n",
    "- RGB指红蓝绿三个通道的颜色组合\n",
    "- 覆盖视力所能感知的所有颜色\n",
    "- RGB每色取值范围0-255整数或0-1小数\n",
    "\n",
    "#### 常用RGB色彩\n",
    "英文名称 |RGB整数值 |RGB小数值 |中文名称\n",
    "---|---|---|---\n",
    "white |255, 255, 255 |1, 1, 1 |白色\n",
    "yellow |255, 255, 0 |1, 1, 0 |黄色\n",
    "magenta |255, 0, 255| 1, 0, 1 |洋红\n",
    "cyan |0, 255, 255| 0, 1, 1 |青色\n",
    "blue |0, 0, 255 |0, 0, 1 |蓝色\n",
    "black |0, 0, 0 |0, 0, 0 |黑色\n",
    "seashell |255, 245, 238 |1, 0.96, 0.93 |海贝色\n",
    "gold |255, 215, 0 |1, 0.84, 0 |金色\n",
    "pink |255, 192, 203 |1, 0.75, 0.80 |粉红色\n",
    "brown |165, 42, 42| 0.65, 0.16, 0.16| 棕色\n",
    "purple |160, 32, 240 |0.63, 0.13, 0.94| 紫色\n",
    "tomato |255, 99, 71 |1, 0.39, 0.28 |番茄色\n",
    "\n",
    "\n",
    "turtle的RGB色彩模式\n",
    "默认采用小数值 可切换为整数值\n",
    "```turtle.colormode(mode)```\n",
    "- 1.0：RGB小数值模式\n",
    "- 255：RGB整数值模式\n"
   ]
  },
  {
   "cell_type": "code",
   "execution_count": null,
   "metadata": {},
   "outputs": [],
   "source": [
    "#画一个五边形\n",
    "import turtle\n",
    "turtle.goto( 100, 100)\n",
    "turtle.goto( 100,-100)\n",
    "turtle.goto(-100,-100)\n",
    "turtle.goto(-100, 100)\n",
    "turtle.goto(0,0)\n",
    "turtle.done()"
   ]
  },
  {
   "cell_type": "code",
   "execution_count": 8,
   "metadata": {},
   "outputs": [],
   "source": [
    "#画一个五角星\n",
    "import turtle\n",
    "turtle.pencolor(\"red\")\n",
    "turtle.goto( 100, 200)\n",
    "turtle.goto( 200,0)\n",
    "turtle.goto(-30,140)\n",
    "turtle.goto(230, 140)\n",
    "turtle.goto(0,0)\n"
   ]
  },
  {
   "cell_type": "code",
   "execution_count": null,
   "metadata": {},
   "outputs": [],
   "source": [
    "import turtle\n",
    "turtle.left(45)\n",
    "turtle.fd(150)\n",
    "turtle.right(135)\n",
    "turtle.fd(300)\n",
    "turtle.left(135)\n",
    "turtle.fd(150)"
   ]
  },
  {
   "cell_type": "code",
   "execution_count": 4,
   "metadata": {},
   "outputs": [],
   "source": [
    "import turtle\n",
    "?turtle.left()\n",
    "#turtle.fd"
   ]
  },
  {
   "cell_type": "markdown",
   "metadata": {},
   "source": [
    "## 数据类型\n",
    "\n",
    "\n",
    "### 复数类型\n",
    "复数实例\n",
    "z = 1.23e-4+5.6e+89j\n",
    "- 实部是什么？ z.real 获得实部\n",
    "- 虚部是什么？ z.imag 获得虚部\n",
    "\n",
    "### 数值运算操作符\n",
    "操作符及使用 |描述\n",
    "---|---\n",
    "x + y |加，x与y之和\n",
    "x – y |减，x与y之差\n",
    "x * y |乘，x与y之积\n",
    "x / y |除，x与y之商 10/3结果是3.3333333333333335\n",
    "x // y |整数除，x与y之整数商 10//3结果是3\n",
    "+ x |x本身\n",
    "- y |y的负值\n",
    "x % y |余数，模运算 10%3结果是1\n",
    "x ** y|幂运算，x的y次幂，xy；当y是小数时，开方运算 10**0.5结果是```10^0.5``` \n",
    "\n",
    "三种类型存在一种逐渐\"扩展\"或\"变宽\"的关系：\n",
    "整数 -> 浮点数 -> 复数\n",
    "### 数值运算函数\n",
    "函数及使用 |描述\n",
    "---|---\n",
    "abs(x) |绝对值，x的绝对值，abs(-10.01)结果为 10.01\n",
    "divmod(x,y) |商余，(x//y, x%y)，同时输出商和余数,divmod(10, 3)结果为 (3, 1)\n",
    "pow(x, y[, z])|幂余，(x**y)%z，[..]表示参数z可省略pow(3, pow(3, 99), 10000) 结果为 4587\n",
    "round(x[, d]) |四舍五入，d是保留小数位数，默认值为0,round(-10.123, 2) 结果为 -10.12\n",
    "max(x1,x2, … ,xn)|最大值，返回x1,x2, … ,xn中的最大值，n不限,max(1, 9, 5, 4 3) 结果为 9\n",
    "min(x1,x2, … ,xn) |最小值，返回x1,x2, … ,xn中的最小值，n不限,min(1, 9, 5, 4 3) 结果为 1\n",
    "int(x) |将x变成整数，舍弃小数部分,int(123.45) 结果为123； int(\"123\") 结果为123\n",
    "float(x)| 将x变成浮点数，增加小数部分,float(12) 结果为12.0； float(\"1.23\") 结果为1.23\n",
    "complex(x) |将x变成复数，增加虚数部分,complex(4) 结果为 4 + 0j\n",
    "\n",
    "\n",
    "#### 数字类型及操作\n",
    "- 整数类型的无限范围及4种进制表示\n",
    "- 浮点数类型的近似无限范围、小尾数及科学计数法\n",
    "- +、 -、 *、 /、 //、 %、 **、二元增强赋值操作符\n",
    "- abs()、 divmod()、 pow()、 round()、 max()、 min()\n",
    "- int()、 float()、 complex()\n"
   ]
  },
  {
   "cell_type": "markdown",
   "metadata": {},
   "source": [
    "## 字符串操作\n",
    "\n",
    "### 表示形式：\n",
    "- 字符串由一对单引号或一对双引号表示\n",
    "\"请输入带有符号的温度值: \"或者 'C'\n",
    "- 字符串是字符的有序序列，可以对其中的字符进行索引\n",
    "\"请\" 是 \"请输入带有符号的温度值: \" 的第0个字符\n",
    "- 由一对单引号或双引号表示，仅表示单行字符串\n",
    "\"请输入带有符号的温度值: \"或者 'C'\n",
    "- 由一对三单引号或三双引号表示，可表示多行字符串\n",
    "''' Python\n",
    "语言 '''\n",
    "- 如果希望在字符串中包含双引号或单引号呢？\n",
    "'这里有个双引号(\")' 或者 \"这里有个单引号(')\"\n",
    "- 如果希望在字符串中既包括单引号又包括双引号呢？\n",
    "''' 这里既有单引号(')又有双引号 (\") '''\n",
    "\n",
    "### 字符串的使用\n",
    "#### 使用[ ]获取字符串中一个或多个字符\n",
    "- 索引：返回字符串中单个字符 <字符串>[M]\n",
    "\"请输入带有符号的温度值: \"[0] 或者 TempStr[-1]\n",
    "- 切片：返回字符串中一段字符子串 <字符串>[M: N]\n",
    "\"请输入带有符号的温度值: \"[1:3] 或者 TempStr[0:-1]\n",
    "#### 使用[M: N: K]根据步长对字符串切片\n",
    "- <字符串>[M: N]，M缺失表示至开头，N缺失表示至结尾\n",
    "\"〇一二三四五六七八九十\"[:3] 结果是 \"〇一二\"\n",
    "- <字符串>[M: N: K]，根据步长K对字符串切片\n",
    "\"〇一二三四五六七八九十\"[1:8:2] 结果是 \"一三五七\"\n",
    "\"〇一二三四五六七八九十\"[::-1] 结果是 \"十九八七六五四三二一〇\"\n",
    "转义符 \\\n",
    "- 转义符表达特定字符的本意\n",
    "\"这里有个双引号(\\\")\" 结果为 这里有个双引号(\")\n",
    "- 转义符形成一些组合，表达一些不可打印的含义\n",
    "\"\\b\"回退 \"\\n\"换行(光标移动到下行首) \"\\r\" 回车(光标移动到本行首)\n",
    "\n",
    "### 字符串操作符\n",
    "操作符及使用 |描述\n",
    "---|---\n",
    "x + y |连接两个字符串x和y\n",
    "n * x 或 x * n |复制n次字符串x\n",
    "x in s |如果x是s的子串，返回True，否则返回False\n",
    "\n",
    "### 字符串处理函数\n",
    "\n",
    "函数及使用 |描述\n",
    "---|----\n",
    "len(x) |长度，返回字符串x的长度，len(\"一二三456\") 结果为 6\n",
    "str(x)|任意类型x所对应的字符串形式，str(1.23)结果为\"1.23\" str([1,2])结果为\"[1,2]\"\n",
    "hex(x) 或 oct(x) |整数x的十六进制或八进制小写形式字符串，hex(425)结果为\"0x1a9\" oct(425)结果为\"0o651\"\n",
    "chr(u) |x为Unicode编码，返回其对应的字符\n",
    "ord(x) |x为字符，返回其对应的Unicode编码\n",
    "\n",
    "\n",
    "### 字符串处理方法\n",
    "方法及使用 | 描述\n",
    "---|---\n",
    "str.lower() 或 str.upper()| 返回字符串的副本，全部字符小写/大写，\"AbCdEfGh\".lower() 结果为 \"abcdefgh\"\n",
    "str.split(sep=None) |返回一个列表，由str根据sep被分隔的部分组成，\"A,B,C\".split(\",\") 结果为 ['A','B','C']\n",
    "str.count(sub)| 返回子串sub在str中出现的次数，\"a apple a day\".count(\"a\") 结果为 4\n",
    "str.replace(old, new)|返回字符串str副本，所有old子串被替换为new，\"python\".replace(\"n\",\"n123.io\") 结果为，\"python123.io\"\n",
    "str.center(width[,fillchar])|字符串str根据宽度width居中，fillchar可选，\"python\".center(20,\"=\") 结果为，'=======python======='\n",
    "str.strip(chars)|从str中去掉在其左侧和右侧chars中列出的字符，\"= python=，\".strip(\" =np\") 结果为，\"ytho\"\n",
    "str.join(iter)|在iter变量除最后元素外每个元素后增加一个str，\",\".join(\"12345\") 结果为，\"1,2,3,4,5\" #主要用于字符串分隔等"
   ]
  },
  {
   "cell_type": "code",
   "execution_count": 4,
   "metadata": {},
   "outputs": [
    {
     "name": "stdout",
     "output_type": "stream",
     "text": [
      "请输入星期数字(1-7)：2\n",
      "星期二\n"
     ]
    }
   ],
   "source": [
    "#WeekNamePrintV1.py\n",
    "weekStr = \"星期一星期二星期三星期四星期五星期六星期日\"\n",
    "weekId = eval(input(\"请输入星期数字(1-7)：\"))\n",
    "pos = (weekId - 1 ) * 3\n",
    "print(weekStr[pos: pos+3])"
   ]
  },
  {
   "cell_type": "code",
   "execution_count": 5,
   "metadata": {},
   "outputs": [
    {
     "name": "stdout",
     "output_type": "stream",
     "text": [
      "请输入星期数字(1-7)：2\n",
      "星期二\n"
     ]
    }
   ],
   "source": [
    "#WeekNamePrintV2.py\n",
    "weekStr = \"一二三四五六日\"\n",
    "weekId = eval(input(\"请输入星期数字(1-7)：\"))\n",
    "print(\"星期\" + weekStr[weekId-1])"
   ]
  },
  {
   "cell_type": "code",
   "execution_count": 9,
   "metadata": {},
   "outputs": [
    {
     "name": "stdout",
     "output_type": "stream",
     "text": [
      "♈ ♉ ♊ ♋ ♌ ♍ ♎ ♏ ♐ ♑ ♒ ♓ "
     ]
    }
   ],
   "source": [
    "#有趣的Unicode编码\n",
    "for i in range(12):\n",
    "    print(chr(9800 + i), end=\" \")"
   ]
  },
  {
   "cell_type": "code",
   "execution_count": 16,
   "metadata": {},
   "outputs": [
    {
     "data": {
      "text/plain": [
       "'=======PYTHON======='"
      ]
     },
     "execution_count": 16,
     "metadata": {},
     "output_type": "execute_result"
    }
   ],
   "source": [
    "#Format函数样例\n",
    "'''\n",
    " 字符串格式化使用.format()方法，用法如下：\n",
    "    <模板字符串>.format(<逗号分隔的参数>)\n",
    "\"{ }:计算机{ }的CPU占用率为{ }%\".format(\"2018-10-10\",\"C\",10)\n",
    "format()方法的格式控制\n",
    "： <填充> <对齐> <宽度> <,> <.精度> <类型>\n",
    "引导符号,用于填充的单个字符,< 左对齐,> 右对齐,^ 居中对齐,槽设定的输出宽度\n",
    "'''\n",
    "\"{0:=^20}\".format(\"PYTHON\")\n",
    "\n"
   ]
  },
  {
   "cell_type": "code",
   "execution_count": 14,
   "metadata": {},
   "outputs": [
    {
     "data": {
      "text/plain": [
       "'*****************BIT'"
      ]
     },
     "execution_count": 14,
     "metadata": {},
     "output_type": "execute_result"
    }
   ],
   "source": [
    "\"{0:*>20}\".format(\"BIT\")\n"
   ]
  },
  {
   "cell_type": "code",
   "execution_count": 15,
   "metadata": {},
   "outputs": [
    {
     "data": {
      "text/plain": [
       "'BIT       '"
      ]
     },
     "execution_count": 15,
     "metadata": {},
     "output_type": "execute_result"
    }
   ],
   "source": [
    "\"{:10}\".format(\"BIT\")"
   ]
  },
  {
   "cell_type": "code",
   "execution_count": 19,
   "metadata": {},
   "outputs": [
    {
     "ename": "KeyError",
     "evalue": "' '",
     "output_type": "error",
     "traceback": [
      "\u001b[1;31m---------------------------------------------------------------------------\u001b[0m",
      "\u001b[1;31mKeyError\u001b[0m                                  Traceback (most recent call last)",
      "\u001b[1;32m<ipython-input-19-22f55da0765d>\u001b[0m in \u001b[0;36m<module>\u001b[1;34m()\u001b[0m\n\u001b[1;32m----> 1\u001b[1;33m \u001b[1;34m\"{ }:计算机{ }的CPU占用率为{ }%\"\u001b[0m\u001b[1;33m.\u001b[0m\u001b[0mformat\u001b[0m\u001b[1;33m(\u001b[0m\u001b[1;34m\"2018-10-10\"\u001b[0m\u001b[1;33m,\u001b[0m\u001b[1;34m\"C\"\u001b[0m\u001b[1;33m,\u001b[0m\u001b[1;36m10\u001b[0m\u001b[1;33m)\u001b[0m\u001b[1;33m\u001b[0m\u001b[0m\n\u001b[0m",
      "\u001b[1;31mKeyError\u001b[0m: ' '"
     ]
    }
   ],
   "source": [
    "\"{ }:计算机{ }的CPU占用率为{ }%\".format(\"2018-10-10\",\"C\",10)"
   ]
  },
  {
   "cell_type": "markdown",
   "metadata": {},
   "source": [
    "## Time库\n",
    "### 时间的获取\n",
    "- 时间获取：time() ctime() gmtime()\n",
    "- 时间格式化：strftime() strptime()\n",
    "- 程序计时：sleep(), perf_counter()\n",
    "### 时间格式化\n",
    "- 格式化：类似字符串格式化，需要有展示模板\n",
    "- 展示模板由特定的格式化控制符组成\n",
    "- strftime()方法时间格式化\n",
    "\n",
    "strftime(tpl, ts)\n",
    "\n",
    "tpl是格式化模板字符串，用来定义输出效果\n",
    "ts是计算机内部时间类型变量\n",
    "```\n",
    ">>>t = time.gmtime()\n",
    ">>>time.strftime(\"%Y-%m-%d %H:%M:%S\",t)\n",
    "'2018-01-26 12:55:20\n",
    "```\n",
    "\n",
    "格式化字符串| 日期/时间说明 |值范围和实例\n",
    "---|---|---\n",
    "%Y |年份 |0000~9999，例如：1900\n",
    "%m |月份 |01~12，例如：10\n",
    "%B |月份名称 |January~December，例如：April\n",
    "%b |月份名称缩写 |Jan~Dec，例如：Apr\n",
    "%d |日期 |01~31，例如：25\n",
    "%A |星期 |Monday~Sunday，例如：Wednesday\n",
    "%a |星期缩写 |Mon~Sun，例如：Wed\n",
    "%H |小时（24h制）| 00~23，例如：12\n",
    "%h |小时（12h制）| 01~12，例如：7\n",
    "%p |上/下午| AM, PM，例如：PM\n",
    "%M |分钟、 00~59，例如：26\n",
    "%S |秒 |00~59，例如：26\n",
    "\n",
    "### 程序计时\n",
    "- 程序计时指测量起止动作所经历时间的过程\n",
    "- 测量时间：perf_counter()\n",
    "- 产生时间：sleep()\n",
    "perf_counter()\n",
    "```\n",
    "返回一个CPU级别的精确时间计数值，单位为秒\n",
    "由于这个计数值起点不确定，连续调用差值才有意义\n",
    ">>>start = time.perf_counter()\n",
    "318.66599499718114\n",
    ">>>end = time.perf_counter()\n",
    "341.3905185375658\n",
    ">>>end - start\n",
    "22.724523540384666\n",
    "```\n",
    "\n",
    "sleep(s)\n",
    "```\n",
    "s拟休眠的时间，单位是秒，可以是浮点数\n",
    ">>>def wait():\n",
    "time.sleep(3.3)\n",
    ">>>wait() #程序将等待3.3秒后再退出\n",
    "```\n"
   ]
  },
  {
   "cell_type": "code",
   "execution_count": 26,
   "metadata": {},
   "outputs": [],
   "source": [
    "import time\n"
   ]
  },
  {
   "cell_type": "code",
   "execution_count": 27,
   "metadata": {},
   "outputs": [
    {
     "data": {
      "text/plain": [
       "1526287283.0024252"
      ]
     },
     "execution_count": 27,
     "metadata": {},
     "output_type": "execute_result"
    }
   ],
   "source": [
    "time.time()#获取时间戳"
   ]
  },
  {
   "cell_type": "code",
   "execution_count": 28,
   "metadata": {},
   "outputs": [
    {
     "data": {
      "text/plain": [
       "'Mon May 14 16:41:47 2018'"
      ]
     },
     "execution_count": 28,
     "metadata": {},
     "output_type": "execute_result"
    }
   ],
   "source": [
    "time.ctime()#获取当前时间并以易读方式表示，返回字符串\n"
   ]
  },
  {
   "cell_type": "code",
   "execution_count": 30,
   "metadata": {},
   "outputs": [],
   "source": [
    "t = time.gmtime()#获取当前时间，表示为计算机可处理的时间格式"
   ]
  },
  {
   "cell_type": "code",
   "execution_count": 32,
   "metadata": {},
   "outputs": [
    {
     "data": {
      "text/plain": [
       "time.struct_time(tm_year=2018, tm_mon=5, tm_mday=14, tm_hour=8, tm_min=42, tm_sec=20, tm_wday=0, tm_yday=134, tm_isdst=0)"
      ]
     },
     "execution_count": 32,
     "metadata": {},
     "output_type": "execute_result"
    }
   ],
   "source": [
    "t"
   ]
  },
  {
   "cell_type": "code",
   "execution_count": 34,
   "metadata": {},
   "outputs": [
    {
     "data": {
      "text/plain": [
       "2018"
      ]
     },
     "execution_count": 34,
     "metadata": {},
     "output_type": "execute_result"
    }
   ],
   "source": [
    "t.tm_year"
   ]
  },
  {
   "cell_type": "code",
   "execution_count": 35,
   "metadata": {},
   "outputs": [
    {
     "data": {
      "text/plain": [
       "'2018-05-14 08:42:20'"
      ]
     },
     "execution_count": 35,
     "metadata": {},
     "output_type": "execute_result"
    }
   ],
   "source": [
    "time.strftime(\"%Y-%m-%d %H:%M:%S\",t)"
   ]
  },
  {
   "cell_type": "markdown",
   "metadata": {},
   "source": [
    "## 样例三 文本进度条"
   ]
  },
  {
   "cell_type": "code",
   "execution_count": 37,
   "metadata": {},
   "outputs": [
    {
     "name": "stdout",
     "output_type": "stream",
     "text": [
      "------执行开始------\n",
      " 0 %[->..........]\n",
      "10 %[*->.........]\n",
      "20 %[**->........]\n",
      "30 %[***->.......]\n",
      "40 %[****->......]\n",
      "50 %[*****->.....]\n",
      "60 %[******->....]\n",
      "70 %[*******->...]\n",
      "80 %[********->..]\n",
      "90 %[*********->.]\n",
      "100%[**********->]\n",
      "------执行结束------\n"
     ]
    }
   ],
   "source": [
    "## 样例三 文本进度条\n",
    "#TextProBarV1.py 简单的开始\n",
    "import time\n",
    "scale = 10\n",
    "print(\"------执行开始------\")\n",
    "for i in range(scale+1):\n",
    "    a = '*' * i\n",
    "    b = '.' * (scale - i)\n",
    "    c = (i/scale)*100\n",
    "    print(\"{:^3.0f}%[{}->{}]\".format(c,a,b))\n",
    "    time.sleep(0.1)\n",
    "print(\"------执行结束------\")"
   ]
  },
  {
   "cell_type": "code",
   "execution_count": 39,
   "metadata": {},
   "outputs": [
    {
     "name": "stdout",
     "output_type": "stream",
     "text": [
      "100%"
     ]
    }
   ],
   "source": [
    "#TextProBarV2.py\n",
    "import time\n",
    "for i in range(101):\n",
    "    print(\"\\r{:3}%\".format(i), end=\"\")\n",
    "    time.sleep(0.1)"
   ]
  },
  {
   "cell_type": "code",
   "execution_count": null,
   "metadata": {},
   "outputs": [
    {
     "name": "stdout",
     "output_type": "stream",
     "text": [
      "--------------------------------------------------------------------------------------执行开始-------------------------------------------------------------------------------------\n",
      "26 %[******************************************************************************************->....................................................................................................................................................................................................................................................................]9.29s"
     ]
    }
   ],
   "source": [
    "#TextProBarV3.py 完整效果\n",
    "import time\n",
    "scale = 350\n",
    "print(\"执行开始\".center(scale//2, \"-\"))\n",
    "start = time.perf_counter()\n",
    "for i in range(scale+1):\n",
    "    a = '*' * i\n",
    "    b = '.' * (scale - i)\n",
    "    c = (i/scale)*100\n",
    "    dur = time.perf_counter() - start\n",
    "    print(\"\\r{:^3.0f}%[{}->{}]{:.2f}s\".format(c,a,b,dur),end='')\n",
    "    time.sleep(0.1)\n",
    "print(\"\\n\"+\"执行结束\".center(scale//2,'-'))"
   ]
  },
  {
   "cell_type": "markdown",
   "metadata": {},
   "source": [
    "### 文本进度条的不同设计函数\n",
    "设计名称 |趋势 |设计函数\n",
    "---|---|---\n",
    "Linear |Constant |f(x) = x\n",
    "Early Pause |Speeds up |f(x) = x+(1-sin(x*π*2+π/2)/-8\n",
    "Late Pause |Slows down |f(x) = x+(1-sin(x*π*2+π/2)/8\n",
    "Slow Wavy |Constant |f(x) = x+sin(x*π*5)/20\n",
    "Fast Wavy |Constant |f(x) = x+sin(x*π*20)/80\n",
    "Power |Speeds up |f(x) = (x+(1-x)*0.03)2\n",
    "Inverse| Power Slows down |f(x) =1+(1-x)1.5 *-1\n",
    "Fast Power| Speeds up |f(x) = (x+(1-x)/2)8\n",
    "Inverse Fast Power| Slows down |f(x) = 1+(1-x)3 *-1"
   ]
  },
  {
   "cell_type": "code",
   "execution_count": 43,
   "metadata": {},
   "outputs": [
    {
     "name": "stdout",
     "output_type": "stream",
     "text": [
      "Please input your nameSwYoung\n"
     ]
    },
    {
     "ename": "NameError",
     "evalue": "name 'SwYoung' is not defined",
     "output_type": "error",
     "traceback": [
      "\u001b[1;31m---------------------------------------------------------------------------\u001b[0m",
      "\u001b[1;31mNameError\u001b[0m                                 Traceback (most recent call last)",
      "\u001b[1;32m<ipython-input-43-40e08f940429>\u001b[0m in \u001b[0;36m<module>\u001b[1;34m()\u001b[0m\n\u001b[1;32m----> 1\u001b[1;33m \u001b[0mname\u001b[0m \u001b[1;33m=\u001b[0m \u001b[0meval\u001b[0m\u001b[1;33m(\u001b[0m\u001b[0minput\u001b[0m\u001b[1;33m(\u001b[0m\u001b[1;34m'Please input your name'\u001b[0m\u001b[1;33m)\u001b[0m\u001b[1;33m)\u001b[0m\u001b[1;33m\u001b[0m\u001b[0m\n\u001b[0m\u001b[0;32m      2\u001b[0m \u001b[0mprint\u001b[0m\u001b[1;33m(\u001b[0m\u001b[0mname\u001b[0m\u001b[1;33m)\u001b[0m\u001b[1;33m\u001b[0m\u001b[0m\n",
      "\u001b[1;32m<string>\u001b[0m in \u001b[0;36m<module>\u001b[1;34m()\u001b[0m\n",
      "\u001b[1;31mNameError\u001b[0m: name 'SwYoung' is not defined"
     ]
    }
   ],
   "source": [
    "name = eval(input('Please input your name'))\n",
    "print(name)"
   ]
  },
  {
   "cell_type": "code",
   "execution_count": 45,
   "metadata": {},
   "outputs": [
    {
     "name": "stdout",
     "output_type": "stream",
     "text": [
      "78\n",
      "输入成绩属于级别D\n"
     ]
    }
   ],
   "source": [
    "score = eval(input())\n",
    "if score >= 60:\n",
    "    grade = \"D\"\n",
    "elif score >= 70:\n",
    "    grade = \"C\"\n",
    "elif score >= 80:\n",
    "    grade = \"B\"\n",
    "elif score >= 90:\n",
    "    grade = \"A\"\n",
    "print(\"输入成绩属于级别{}\".format(grade))"
   ]
  },
  {
   "cell_type": "code",
   "execution_count": 46,
   "metadata": {},
   "outputs": [
    {
     "name": "stdout",
     "output_type": "stream",
     "text": [
      "请输入一个整数: 23\n",
      "529\n"
     ]
    }
   ],
   "source": [
    "num = eval(input(\"请输入一个整数: \"))\n",
    "print(num**2)"
   ]
  },
  {
   "cell_type": "markdown",
   "metadata": {},
   "source": [
    "## Python的一场处理机制\n",
    "```\n",
    "try :\n",
    "    <语句块1>\n",
    "except :\n",
    "    <语句块2>\n",
    "```\n",
    "---\n",
    "```\n",
    "try :\n",
    "    <语句块1>\n",
    "except <异常类型> :\n",
    "    <语句块2>\n",
    "```\n",
    "---\n",
    "```\n",
    "try : \n",
    "    <语句块1>\n",
    "except :\n",
    "    <语句块2>\n",
    "else :#else对应语句块3在不发生异常时执行\n",
    "    <语句块3>\n",
    "finally : #finally对应语句块4一定执行\n",
    "    <语句块4>\n",
    "```"
   ]
  },
  {
   "cell_type": "code",
   "execution_count": 47,
   "metadata": {},
   "outputs": [
    {
     "name": "stdout",
     "output_type": "stream",
     "text": [
      "请输入一个整数: 22\n",
      "484\n"
     ]
    }
   ],
   "source": [
    "try :\n",
    "    num = eval(input(\"请输入一个整数: \"))\n",
    "    print(num**2)\n",
    "except :\n",
    "    print(\"输入不是整数\")"
   ]
  },
  {
   "cell_type": "code",
   "execution_count": 52,
   "metadata": {},
   "outputs": [
    {
     "name": "stdout",
     "output_type": "stream",
     "text": [
      "请输入身高(米)和体重\\(公斤)[逗号隔开]: 1.7,65\n",
      "BMI 数值为：22.49\n",
      "BMI 指标为:国际'正常'\n"
     ]
    }
   ],
   "source": [
    "#CalBMIv1.py\n",
    "height, weight = eval(input(\"请输入身高(米)和体重\\(公斤)[逗号隔开]: \"))\n",
    "bmi = weight / pow(height, 2)\n",
    "print(\"BMI 数值为：{:.2f}\".format(bmi))\n",
    "who = \"\"\n",
    "if bmi < 18.5:\n",
    "    who = \"偏瘦\"\n",
    "elif 18.5 <= bmi < 25:\n",
    "    who = \"正常\"\n",
    "elif 25 <= bmi < 30:\n",
    "    who = \"偏胖\"\n",
    "else:\n",
    "    who = \"肥胖\"\n",
    "print(\"BMI 指标为:国际'{0}'\".format(who))"
   ]
  },
  {
   "cell_type": "markdown",
   "metadata": {},
   "source": [
    "## Random库\n",
    "- 伪随机数: 采用梅森旋转算法生成的(伪)随机序列中元素\n",
    "- random库主要用于生成随机数\n",
    "- 使用random库: import random\n",
    "-基本随机数函数： seed(), random()\n",
    "- 扩展随机数函数： randint(), getrandbits(), uniform(),randrange(), choice(), shuffle()\n",
    "\n",
    "### 基本随机数函数\n",
    "seed(a=None)\n",
    "初始化给定的随机数种子，默认为当前系统时间\n",
    "random.seed(10) #产生种子10对应的序列\n",
    "\n",
    "random()\n",
    "生成一个[m, n)之间以k为步长的随机整数\n",
    "random.randrange(10, 100, 10)\n",
    "80\n",
    "\n",
    "### 扩展随机数函数\n",
    "函数 |描述\n",
    "---|---\n",
    "getrandbits(k)|生成一个k比特长的随机整数,random.getrandbits(16)\n",
    "uniform(a, b)|生成一个[a, b]之间的随机小数,random.uniform(10, 100)\n",
    "choice(seq)|从序列seq中随机选择一个元素random.choice([1,2,3,4,5,6,7,8,9])\n",
    "shuffle(seq)|将序列seq中元素随机排列，返回打乱后的序列,s=[1,2,3,4,5,6,7,8,9];random.shuffle(s);print(s\n"
   ]
  },
  {
   "cell_type": "code",
   "execution_count": 1,
   "metadata": {},
   "outputs": [],
   "source": [
    "import random"
   ]
  },
  {
   "cell_type": "code",
   "execution_count": 5,
   "metadata": {},
   "outputs": [
    {
     "data": {
      "text/plain": [
       "26"
      ]
     },
     "execution_count": 5,
     "metadata": {},
     "output_type": "execute_result"
    }
   ],
   "source": [
    "random.randint(0,100)"
   ]
  },
  {
   "cell_type": "code",
   "execution_count": 7,
   "metadata": {},
   "outputs": [],
   "source": [
    "random.seed(12)"
   ]
  },
  {
   "cell_type": "code",
   "execution_count": 9,
   "metadata": {},
   "outputs": [
    {
     "data": {
      "text/plain": [
       "0.4745706786885481"
      ]
     },
     "execution_count": 9,
     "metadata": {},
     "output_type": "execute_result"
    }
   ],
   "source": [
    "random.random()"
   ]
  },
  {
   "cell_type": "code",
   "execution_count": 10,
   "metadata": {},
   "outputs": [
    {
     "data": {
      "text/plain": [
       "<random.Random at 0x2896ef27688>"
      ]
     },
     "execution_count": 10,
     "metadata": {},
     "output_type": "execute_result"
    }
   ],
   "source": [
    "random.Random()"
   ]
  },
  {
   "cell_type": "code",
   "execution_count": 18,
   "metadata": {},
   "outputs": [
    {
     "data": {
      "text/plain": [
       "20"
      ]
     },
     "execution_count": 18,
     "metadata": {},
     "output_type": "execute_result"
    }
   ],
   "source": [
    "random.randrange(0,100,5)"
   ]
  },
  {
   "cell_type": "code",
   "execution_count": 19,
   "metadata": {},
   "outputs": [
    {
     "data": {
      "text/plain": [
       "390"
      ]
     },
     "execution_count": 19,
     "metadata": {},
     "output_type": "execute_result"
    }
   ],
   "source": [
    "random.getrandbits(10)"
   ]
  },
  {
   "cell_type": "code",
   "execution_count": 22,
   "metadata": {},
   "outputs": [
    {
     "data": {
      "text/plain": [
       "4"
      ]
     },
     "execution_count": 22,
     "metadata": {},
     "output_type": "execute_result"
    }
   ],
   "source": [
    "random.choice([1,2,3,4,5])#随机选择一个列表中的数"
   ]
  },
  {
   "cell_type": "code",
   "execution_count": 26,
   "metadata": {},
   "outputs": [
    {
     "name": "stdout",
     "output_type": "stream",
     "text": [
      "[9, 3, 7, 5, 1, 4, 8, 6, 2]\n"
     ]
    }
   ],
   "source": [
    "a=[1,2,3,4,5,6,7,8,9]\n",
    "random.shuffle(a)#打乱原有排序\n",
    "print(a)"
   ]
  },
  {
   "cell_type": "markdown",
   "metadata": {},
   "source": [
    "## 样例四 圆周率的计算"
   ]
  },
  {
   "cell_type": "code",
   "execution_count": 29,
   "metadata": {},
   "outputs": [
    {
     "name": "stdout",
     "output_type": "stream",
     "text": [
      "圆周率值是: 3.141592653589793\n"
     ]
    }
   ],
   "source": [
    "#CalPiV1.py\n",
    "#方法一：公式法\n",
    "pi = 0\n",
    "N = 100\n",
    "for k in range(N):\n",
    "    pi += 1/pow(16,k)*( \\\n",
    "              4/(8*k+1) - 2/(8*k+4) - \\\n",
    "              1/(8*k+5) - 1/(8*k+6) ) \n",
    "print(\"圆周率值是: {}\".format(pi))\n",
    "\n"
   ]
  },
  {
   "cell_type": "code",
   "execution_count": 1,
   "metadata": {},
   "outputs": [
    {
     "name": "stdout",
     "output_type": "stream",
     "text": [
      "圆周率值是: 3.139296\n",
      "运行时间是: 1.37419s\n"
     ]
    }
   ],
   "source": [
    "#CalPiV2.py\n",
    "#蒙特卡罗方法\n",
    "#运行时间长\n",
    "from random import random\n",
    "from time import perf_counter\n",
    "DARTS = 1000*1000\n",
    "hits = 0.0\n",
    "start = perf_counter()\n",
    "for i in range(1, DARTS+1):\n",
    "    x, y = random(), random()\n",
    "    dist = pow(x ** 2 + y ** 2, 0.5)\n",
    "    if dist <= 1.0:\n",
    "        hits = hits + 1\n",
    "pi = 4 * (hits/DARTS)\n",
    "print(\"圆周率值是: {}\".format(pi))\n",
    "print(\"运行时间是: {:.5f}s\".format(perf_counter() - start))"
   ]
  },
  {
   "cell_type": "markdown",
   "metadata": {},
   "source": [
    "## 样例五 天天向上"
   ]
  },
  {
   "cell_type": "code",
   "execution_count": 3,
   "metadata": {},
   "outputs": [
    {
     "name": "stdout",
     "output_type": "stream",
     "text": [
      "向上：1.44，向下：0.69\n"
     ]
    }
   ],
   "source": [
    "#DayDayUpQ1.py\n",
    "#0.001\n",
    "dayup = pow(1.001, 365)\n",
    "daydown = pow(0.999, 365)\n",
    "print(\"向上：{:.2f}，向下：{:.2f}\".format(dayup, daydown))"
   ]
  },
  {
   "cell_type": "code",
   "execution_count": 5,
   "metadata": {},
   "outputs": [
    {
     "name": "stdout",
     "output_type": "stream",
     "text": [
      "向上：6.17，向下：0.16\n"
     ]
    }
   ],
   "source": [
    "#DayDayUpQ2.py\n",
    "dayfactor = 0.005 #有效变化值\n",
    "dayup = pow(1+dayfactor, 365)\n",
    "daydown = pow(1-dayfactor, 365)\n",
    "print(\"向上：{:.2f}，向下：{:.2f}\".format(dayup, daydown))"
   ]
  },
  {
   "cell_type": "code",
   "execution_count": 8,
   "metadata": {},
   "outputs": [
    {
     "name": "stdout",
     "output_type": "stream",
     "text": [
      "工作日的力量：4.63 \n"
     ]
    }
   ],
   "source": [
    "#DayDayUpQ3.py\n",
    "dayup = 1.0\n",
    "dayfactor = 0.01\n",
    "for i in range(365):\n",
    "    if i % 7 in [6,0]:\n",
    "        dayup = dayup*(1-dayfactor)\n",
    "    else:\n",
    "        dayup = dayup*(1+dayfactor)\n",
    "print(\"工作日的力量：{:.2f} \".format(dayup))"
   ]
  },
  {
   "cell_type": "code",
   "execution_count": 9,
   "metadata": {},
   "outputs": [
    {
     "name": "stdout",
     "output_type": "stream",
     "text": [
      "工作日的努力参数是：0.019 \n"
     ]
    }
   ],
   "source": [
    "#DayDayUpQ4.py\n",
    "def dayUP(df):\n",
    "    dayup = 1\n",
    "    for i in range(365):\n",
    "        if i % 7 in [6,0]:\n",
    "            dayup = dayup*(1 - 0.01)\n",
    "        else:\n",
    "            dayup = dayup*(1 + df)\n",
    "    return dayup\n",
    "dayfactor = 0.01\n",
    "while dayUP(dayfactor) < 37.78:\n",
    "    dayfactor += 0.001\n",
    "print(\"工作日的努力参数是：{:.3f} \".format(dayfactor))"
   ]
  },
  {
   "cell_type": "markdown",
   "metadata": {},
   "source": [
    "## 局部变量和全局变量\n",
    "\n",
    "- 局部变量是函数内部的占位符，与全局变量可能重名但不同\n",
    "- 函数运算结束后，局部变量被释放\n",
    "- 可以使用global保留字在函数内部使用全局变量\n",
    "---\n",
    "- 基本数据类型，无论是否重名，局部变量与全局变量不同\n",
    "- 可以通过global保留字在函数内部声明全局变量\n",
    "- 组合数据类型，如果局部变量未真实创建，则是全局变量"
   ]
  },
  {
   "cell_type": "markdown",
   "metadata": {},
   "source": [
    "## 样例六 七段数码管\n"
   ]
  },
  {
   "cell_type": "code",
   "execution_count": 1,
   "metadata": {},
   "outputs": [],
   "source": [
    "#SevenDigitsDrawV1.py\n",
    "import turtle\n",
    "def drawLine(draw):   #绘制单段数码管\n",
    "    turtle.pendown() if draw else turtle.penup()\n",
    "    turtle.fd(40)\n",
    "    turtle.right(90)\n",
    "def drawDigit(digit): #根据数字绘制七段数码管\n",
    "    drawLine(True) if digit in [2,3,4,5,6,8,9] else drawLine(False)\n",
    "    drawLine(True) if digit in [0,1,3,4,5,6,7,8,9] else drawLine(False)\n",
    "    drawLine(True) if digit in [0,2,3,5,6,8,9] else drawLine(False)\n",
    "    drawLine(True) if digit in [0,2,6,8] else drawLine(False)\n",
    "    turtle.left(90)\n",
    "    drawLine(True) if digit in [0,4,5,6,8,9] else drawLine(False)\n",
    "    drawLine(True) if digit in [0,2,3,5,6,7,8,9] else drawLine(False)\n",
    "    drawLine(True) if digit in [0,1,2,3,4,7,8,9] else drawLine(False)\n",
    "    turtle.left(180)\n",
    "    turtle.penup()\n",
    "    turtle.fd(20) \n",
    "def drawDate(date):  #获得要输出的数字\n",
    "    for i in date:\n",
    "        drawDigit(eval(i))  #通过eval()函数将数字变为整数\n",
    "def main():\n",
    "    turtle.pencolor(\"red\")\n",
    "    turtle.setup(800, 350, 200, 200)\n",
    "    turtle.penup()\n",
    "    turtle.fd(-200)\n",
    "    turtle.pensize(5)\n",
    "    drawDate('5201314')\n",
    "    turtle.hideturtle()\n",
    "    turtle.done()\n",
    "main()    \n"
   ]
  },
  {
   "cell_type": "code",
   "execution_count": 13,
   "metadata": {},
   "outputs": [],
   "source": [
    "#SevenDigitsDrawV2.py\n",
    "import turtle, time\n",
    "def drawGap(): #绘制数码管间隔\n",
    "    turtle.penup()\n",
    "    turtle.fd(5)\n",
    "def drawLine(draw):   #绘制单段数码管\n",
    "    drawGap()\n",
    "    turtle.pendown() if draw else turtle.penup()\n",
    "    turtle.fd(40)\n",
    "    drawGap()\n",
    "    turtle.right(90)\n",
    "def drawDigit(d): #根据数字绘制七段数码管\n",
    "    drawLine(True) if d in [2,3,4,5,6,8,9] else drawLine(False)\n",
    "    drawLine(True) if d in [0,1,3,4,5,6,7,8,9] else drawLine(False)\n",
    "    drawLine(True) if d in [0,2,3,5,6,8,9] else drawLine(False)\n",
    "    drawLine(True) if d in [0,2,6,8] else drawLine(False)\n",
    "    turtle.left(90)\n",
    "    drawLine(True) if d in [0,4,5,6,8,9] else drawLine(False)\n",
    "    drawLine(True) if d in [0,2,3,5,6,7,8,9] else drawLine(False)\n",
    "    drawLine(True) if d in [0,1,2,3,4,7,8,9] else drawLine(False)\n",
    "    turtle.left(180)\n",
    "    turtle.penup()\n",
    "    turtle.fd(20)\n",
    "def drawDate(date):\n",
    "    turtle.pencolor(\"red\")\n",
    "    for i in date:\n",
    "        if i == '-':\n",
    "            turtle.write('年',font=(\"Arial\", 18, \"normal\"))\n",
    "            turtle.pencolor(\"green\")\n",
    "            turtle.fd(40)\n",
    "        elif i == '=':\n",
    "            turtle.write('月',font=(\"Arial\", 18, \"normal\"))\n",
    "            turtle.pencolor(\"blue\")\n",
    "            turtle.fd(40)\n",
    "        elif i == '+':\n",
    "            turtle.write('日',font=(\"Arial\", 18, \"normal\"))\n",
    "        else:\n",
    "            drawDigit(eval(i))\n",
    "def main():\n",
    "    turtle.setup(800, 350, 200, 200)\n",
    "    turtle.penup()\n",
    "    turtle.fd(-350)\n",
    "    turtle.pensize(5)\n",
    "#    drawDate('2018-10=10+')\n",
    "    drawDate(time.strftime('%Y-%m=%d+',time.gmtime()))\n",
    "    turtle.hideturtle()\n",
    "    turtle.done()\n",
    "main()\n"
   ]
  },
  {
   "cell_type": "markdown",
   "metadata": {},
   "source": [
    "## 样例七 科赫雪花"
   ]
  },
  {
   "cell_type": "code",
   "execution_count": 15,
   "metadata": {},
   "outputs": [],
   "source": [
    "#KochDrawV1.py\n",
    "import turtle\n",
    "def koch(size, n):\n",
    "    if n == 0:\n",
    "        turtle.fd(size)\n",
    "    else:\n",
    "        for angle in [0, 60, -120, 60]:\n",
    "           turtle.left(angle)\n",
    "           koch(size/3, n-1)\n",
    "def main():\n",
    "    turtle.setup(800,400)\n",
    "    turtle.penup()\n",
    "    turtle.goto(-300, -50)\n",
    "    turtle.pendown()\n",
    "    turtle.pensize(2)\n",
    "    koch(600,3)     # 0阶科赫曲线长度，阶数\n",
    "    turtle.hideturtle()\n",
    "main()\n"
   ]
  },
  {
   "cell_type": "code",
   "execution_count": 1,
   "metadata": {},
   "outputs": [],
   "source": [
    "#KochDrawV2.py\n",
    "import turtle\n",
    "def koch(size, n):\n",
    "    if n == 0:\n",
    "        turtle.fd(size)\n",
    "    else:\n",
    "        for angle in [0, 60, -120, 60]:\n",
    "           turtle.left(angle)\n",
    "           koch(size/3, n-1)\n",
    "def main():\n",
    "    turtle.setup(600,600)\n",
    "    turtle.penup()\n",
    "    turtle.goto(-200, 100)\n",
    "    turtle.pendown()\n",
    "    turtle.pensize(2)\n",
    "    level = 3      # 3阶科赫雪花，阶数\n",
    "    koch(400,level)     \n",
    "    turtle.right(120)\n",
    "    koch(400,level)\n",
    "    turtle.right(120)\n",
    "    koch(400,level)\n",
    "    turtle.hideturtle()\n",
    "main()\n"
   ]
  },
  {
   "cell_type": "markdown",
   "metadata": {},
   "source": [
    "## 样例九 递归求解阶乘"
   ]
  },
  {
   "cell_type": "code",
   "execution_count": 16,
   "metadata": {},
   "outputs": [],
   "source": [
    "def fact(n):\n",
    "    if n == 1:\n",
    "        return 1\n",
    "    else :\n",
    "        return fact(n-1)*n\n",
    "    "
   ]
  },
  {
   "cell_type": "code",
   "execution_count": 18,
   "metadata": {},
   "outputs": [
    {
     "data": {
      "text/plain": [
       "3628800"
      ]
     },
     "execution_count": 18,
     "metadata": {},
     "output_type": "execute_result"
    }
   ],
   "source": [
    "fact(10)"
   ]
  },
  {
   "cell_type": "markdown",
   "metadata": {},
   "source": [
    "## 斐波那契数列\n",
    "- 函数 + 分支结构\n",
    "- 递归链条\n",
    "- 递归基例\n",
    "```\n",
    "def Fibonacci(n):\n",
    "    if n == 1 or n == 2 :\n",
    "        return 1\n",
    "    else :\n",
    "        return Fibonacci(n-1) + Fibonacci(n-2)\n",
    "```"
   ]
  },
  {
   "cell_type": "code",
   "execution_count": 24,
   "metadata": {},
   "outputs": [],
   "source": [
    "def Fibonacci(n):\n",
    "    if n == 1 or n == 2 :\n",
    "        return 1\n",
    "    else :\n",
    "        return Fibonacci(n-1) + Fibonacci(n-2)"
   ]
  },
  {
   "cell_type": "code",
   "execution_count": 26,
   "metadata": {},
   "outputs": [
    {
     "data": {
      "text/plain": [
       "1"
      ]
     },
     "execution_count": 26,
     "metadata": {},
     "output_type": "execute_result"
    }
   ],
   "source": [
    "Fibonacci(2)"
   ]
  },
  {
   "cell_type": "markdown",
   "metadata": {},
   "source": [
    "## 样例十 汉诺塔"
   ]
  },
  {
   "cell_type": "code",
   "execution_count": 27,
   "metadata": {},
   "outputs": [],
   "source": [
    "count = 0\n",
    "def hanoi(n, src, dst, mid):\n",
    "    global count\n",
    "    if n == 1 :\n",
    "        print(\"{}:{}->{}\".format(1,src,dst))\n",
    "        count += 1\n",
    "    else :\n",
    "        hanoi(n-1, src, mid, dst)\n",
    "        print(\"{}:{}->{}\".format(n,src,dst))\n",
    "        count += 1\n",
    "        hanoi(n-1, mid, dst, src)"
   ]
  },
  {
   "cell_type": "code",
   "execution_count": 28,
   "metadata": {},
   "outputs": [
    {
     "name": "stdout",
     "output_type": "stream",
     "text": [
      "1:A->B\n",
      "2:A->C\n",
      "1:B->C\n",
      "3:A->B\n",
      "1:C->A\n",
      "2:C->B\n",
      "1:A->B\n"
     ]
    }
   ],
   "source": [
    "hanoi(3,'A','B','C')"
   ]
  },
  {
   "cell_type": "markdown",
   "metadata": {},
   "source": [
    "## 集合类型\n",
    "### 集合类型的定义\n",
    "A = {\"python\", 123, (\"python\",123)} #使用{}建立集合\n",
    "B = set(\"pypy123\") #使用set()建立集合\n",
    "### 集合操作符\n",
    "操作符及应用 |描述\n",
    "---|---\n",
    "S | T |返回一个新集合，包括在集合S和T中的所有元素\n",
    "S - T |返回一个新集合，包括在集合S但不在T中的元素\n",
    "S & T |返回一个新集合，包括同时在集合S和T中的元素\n",
    "S ^ T |返回一个新集合，包括集合S和T中的非相同元素\n",
    "S <= T 或 S < T |返回True/False，判断S和T的子集关系\n",
    "S >= T 或 S > T |返回True/False，判断S和T的包含关系\n",
    "S |= T |更新集合S，包括在集合S和T中的所有元素\n",
    "S -= T |更新集合S，包括在集合S但不在T中的元素\n",
    "S &= T |更新集合S，包括同时在集合S和T中的元素\n",
    "S ^= T |更新集合S，包括集合S和T中的非相同元素\n",
    "\n",
    "### 集合处理方法\n",
    "操作函数或方法|描述\n",
    "---|---\n",
    "S.add(x) |如果x不在集合S中，将x增加到S\n",
    "S.discard(x)| 移除S中元素x，如果x不在集合S中，不报错\n",
    "S.remove(x)| 移除S中元素x，如果x不在集合S中，产生KeyError异常\n",
    "S.clear()| 移除S中所有元素\n",
    "S.pop()| 随机返回S的一个元素，更新S，若S为空产生KeyError异常集合处理方法\n",
    "S.copy() |返回集合S的一个副本\n",
    "len(S) |返回集合S的元素个数\n",
    "x in S |判断S中元素x， x在集合S中，返回True，否则返回False\n",
    "x not in S| 判断S中元素x， x不在集合S中，返回False，否则返回True\n",
    "set(x) |将其他类型变量x转变为集合类型\n"
   ]
  },
  {
   "cell_type": "markdown",
   "metadata": {},
   "source": [
    "## 序列处理函数及方法\n",
    "操作符及应用 |描述\n",
    "---|---\n",
    "x in s |如果x是序列s的元素，返回True，否则返回False\n",
    "x not in s |如果x是序列s的元素，返回False，否则返回True\n",
    "s + t |连接两个序列s和t\n",
    "s*n 或 n*s| 将序列s复制n次\n",
    "s[i] |索引，返回s中的第i个元素， i是序列的序号\n",
    "s[i: j] 或 s[i: j: k] |切片，返回序列s中第i到j以k为步长的元素子序列\n",
    "\n",
    "函数和方法 |描述\n",
    "---|---\n",
    "len(s) |返回序列s的长度\n",
    "min(s) |返回序列s的最小元素， s中元素需要可比较\n",
    "max(s) |返回序列s的最大元素， s中元素需要可比较\n",
    "s.index(x) 或s.index(x, i, j)| 返回序列s从i开始到j位置中第一次出现元素x的位置\n",
    "s.count(x) |返回序列s中出现x的总次数\n",
    "\n",
    "### 元组\n",
    "- 元组是一种序列类型，一旦创建就不能被修改\n",
    "- 使用小括号 () 或 tuple() 创建，元素间用逗号 , 分隔\n",
    "- 可以使用或不使用小括号\n",
    "\n",
    "元组继承序列类型的全部通用操作\n",
    "- 元组继承了序列类型的全部通用操作\n",
    "- 元组因为创建后不能修改，因此没有特殊操作\n",
    "- 使用或不使用小括号\n",
    "\n",
    "### 列表\n",
    "列表是序列类型的一种扩展，十分常用\n",
    "- 列表是一种序列类型，创建后可以随意被修改\n",
    "- 使用方括号 [] 或list() 创建，元素间用逗号 , 分隔\n",
    "- 列表中各元素类型可以不同，无长度限制\n",
    "\n",
    "列表类型操作函数和方法\n",
    "\n",
    "函数或方法 |描述\n",
    "---|---\n",
    "ls[i] = x |替换列表ls第i元素为x\n",
    "ls[i: j: k] = lt |用列表lt替换ls切片后所对应元素子列表\n",
    "del ls[i] |删除列表ls中第i元素\n",
    "del ls[i: j: k]| 删除|列表ls中第i到第j以k为步长的元素\n",
    "ls += lt |更新列表ls，将列表lt元素增加到列表ls中\n",
    "ls *= n |更新列表ls，其元素重复n次\n",
    "ls.append(x) |在列表ls最后增加一个元素x\n",
    "ls.clear() |删除列表ls中所有元素\n",
    "ls.copy() |生成一个新列表，赋值ls中所有元素\n",
    "ls.insert(i,x) |在列表ls的第i位置增加元素x\n",
    "ls.pop(i) |将列表ls中第i位置元素取出并删除该元素\n",
    "ls.remove(x) |将列表ls中出现的第一个元素x删除\n",
    "ls.reverse() |将列表ls中的元素反转"
   ]
  },
  {
   "cell_type": "code",
   "execution_count": 2,
   "metadata": {},
   "outputs": [],
   "source": [
    "creature = \"cat\", \"dog\", \"tiger\", \"human\""
   ]
  },
  {
   "cell_type": "code",
   "execution_count": 3,
   "metadata": {},
   "outputs": [
    {
     "data": {
      "text/plain": [
       "('cat', 'dog', 'tiger', 'human')"
      ]
     },
     "execution_count": 3,
     "metadata": {},
     "output_type": "execute_result"
    }
   ],
   "source": [
    "creature"
   ]
  },
  {
   "cell_type": "code",
   "execution_count": 11,
   "metadata": {},
   "outputs": [
    {
     "name": "stdout",
     "output_type": "stream",
     "text": [
      "请输入数字(回车退出): 12\n",
      "请输入数字(回车退出): 12\n",
      "请输入数字(回车退出): 1\n",
      "请输入数字(回车退出): 12\n",
      "请输入数字(回车退出): 2\n",
      "请输入数字(回车退出): 45\n",
      "请输入数字(回车退出): \n",
      "平均值:14.0,方差:1.6e+01,中位数:6.5.\n"
     ]
    }
   ],
   "source": [
    "#CalStatisticsV1.py\n",
    "def getNum():       #获取用户不定长度的输入\n",
    "    nums = []\n",
    "    iNumStr = input(\"请输入数字(回车退出): \")\n",
    "    while iNumStr != \"\":\n",
    "        nums.append(eval(iNumStr))\n",
    "        iNumStr = input(\"请输入数字(回车退出): \")\n",
    "    return nums\n",
    "\n",
    "def mean(numbers):  #计算平均值\n",
    "    s = 0.0\n",
    "    for num in numbers:\n",
    "        s = s + num\n",
    "    return s / len(numbers)\n",
    "\n",
    "def dev(numbers, mean): #计算方差\n",
    "    sdev = 0.0\n",
    "    for num in numbers:\n",
    "        sdev = sdev + (num - mean)**2\n",
    "    return pow(sdev / (len(numbers)-1), 0.5)\n",
    "\n",
    "def median(numbers):    #计算中位数\n",
    "    sorted(numbers)\n",
    "    size = len(numbers)\n",
    "    if size % 2 == 0:\n",
    "        med = (numbers[size//2-1] + numbers[size//2])/2\n",
    "    else:\n",
    "        med = numbers[size//2]\n",
    "    return med\n",
    "\n",
    "n =  getNum() #主体函数\n",
    "m =  mean(n)\n",
    "print(\"平均值:{},方差:{:.2},中位数:{}.\".format(m, dev(n,m),median(n)))\n"
   ]
  },
  {
   "cell_type": "code",
   "execution_count": 13,
   "metadata": {},
   "outputs": [
    {
     "name": "stderr",
     "output_type": "stream",
     "text": [
      "Building prefix dict from the default dictionary ...\n",
      "Loading model from cache C:\\Users\\SWYOUN~1\\AppData\\Local\\Temp\\jieba.cache\n",
      "Loading model cost 0.789 seconds.\n",
      "Prefix dict has been built succesfully.\n"
     ]
    },
    {
     "name": "stdout",
     "output_type": "stream",
     "text": [
      "曹操         1451\n",
      "孔明         1383\n",
      "刘备         1252\n",
      "关羽          784\n",
      "张飞          358\n",
      "商议          344\n",
      "如何          338\n",
      "主公          331\n",
      "军士          317\n",
      "吕布          300\n"
     ]
    }
   ],
   "source": [
    "5#CalThreeKingdomsV2.py\n",
    "import jieba\n",
    "excludes = {\"将军\",\"却说\",\"荆州\",\"二人\",\"不可\",\"不能\",\"如此\"}\n",
    "txt = open(\"threekingdoms.txt\", \"r\", encoding='utf-8').read()\n",
    "words  = jieba.lcut(txt)\n",
    "counts = {}\n",
    "for word in words:\n",
    "    if len(word) == 1:\n",
    "        continue\n",
    "    elif word == \"诸葛亮\" or word == \"孔明曰\":\n",
    "        rword = \"孔明\"\n",
    "    elif word == \"关公\" or word == \"云长\":\n",
    "        rword = \"关羽\"\n",
    "    elif word == \"玄德\" or word == \"玄德曰\":\n",
    "        rword = \"刘备\"\n",
    "    elif word == \"孟德\" or word == \"丞相\":\n",
    "        rword = \"曹操\"\n",
    "    else:\n",
    "        rword = word\n",
    "    counts[rword] = counts.get(rword,0) + 1\n",
    "for word in excludes:\n",
    "    del counts[word]\n",
    "items = list(counts.items())\n",
    "items.sort(key=lambda x:x[1], reverse=True) \n",
    "for i in range(10):\n",
    "    word, count = items[i]\n",
    "    print (\"{0:<10}{1:>5}\".format(word, count))\n"
   ]
  },
  {
   "cell_type": "markdown",
   "metadata": {},
   "source": [
    "## 字典\n",
    "函数或方法| 描述\n",
    "---|---\n",
    "del d[k]| 删除字典d中键k对应的数据值\n",
    "k in d |判断键k是否在字典d中，如果在返回True，否则False\n",
    "d.keys() |返回字典d中所有的键信息\n",
    "d.values()| 返回字典d中所有的值信息\n",
    "d.items() |返回字典d中所有的键值对信息\n",
    "d.get(k, <default>) |键k存在，则返回相应值，不在则返回<default>值\n",
    "d.pop(k, <default>) |键k存在，则取出相应值，不在则返回<default>值\n",
    "d.popitem() |随机从字典d中取出一个键值对，以元组形式返回\n",
    "d.clear()| 删除所有的键值对\n",
    "len(d) |返回字典d中元素的个数"
   ]
  },
  {
   "cell_type": "code",
   "execution_count": 13,
   "metadata": {},
   "outputs": [],
   "source": [
    "d = {\"中国\":\"北京\", \"美国\":\"华盛顿\", \"法国\":\"巴黎\"} "
   ]
  },
  {
   "cell_type": "code",
   "execution_count": 14,
   "metadata": {},
   "outputs": [
    {
     "data": {
      "text/plain": [
       "'北京'"
      ]
     },
     "execution_count": 14,
     "metadata": {},
     "output_type": "execute_result"
    }
   ],
   "source": [
    "d.get(\"中国\")"
   ]
  },
  {
   "cell_type": "code",
   "execution_count": 17,
   "metadata": {},
   "outputs": [
    {
     "name": "stdout",
     "output_type": "stream",
     "text": [
      "the        1138\n",
      "and         965\n",
      "to          754\n",
      "of          669\n",
      "you         550\n",
      "i           542\n",
      "a           542\n",
      "my          514\n",
      "hamlet      462\n",
      "in          436\n"
     ]
    }
   ],
   "source": [
    "#CalHamletV1.py\n",
    "def getText():\n",
    "    txt = open(\"hamlet.txt\", \"r\").read()\n",
    "    txt = txt.lower()\n",
    "    for ch in '!\"#$%&()*+,-./:;<=>?@[\\\\]^_‘{|}~':\n",
    "        txt = txt.replace(ch, \" \")   #将文本中特殊字符替换为空格\n",
    "    return txt\n",
    "\n",
    "hamletTxt = getText()\n",
    "words  = hamletTxt.split()\n",
    "counts = {}\n",
    "for word in words:\t\t\t\n",
    "    counts[word] = counts.get(word,0) + 1\n",
    "items = list(counts.items())\n",
    "items.sort(key=lambda x:x[1], reverse=True) \n",
    "for i in range(10):\n",
    "    word, count = items[i]\n",
    "    print (\"{0:<10}{1:>5}\".format(word, count))"
   ]
  },
  {
   "cell_type": "markdown",
   "metadata": {},
   "source": [
    "## 文件的使用\n",
    "\n",
    "- 文件的类型\n",
    "- 文件的打开和关闭\n",
    "- 文件内容的读取\n",
    "- 数据的文件写入\n",
    "文件是数据的抽象和集合\n",
    "\n",
    "- 文件是存储在辅助存储器上的数据序列\n",
    "- 文件是数据存储的一种形式\n",
    "- 文件展现形态：文本文件和二进制文件\n",
    "文本文件 vs. 二进制文件\n",
    "- 文件文件和二进制文件只是文件的展示方式\n",
    "- 本质上，所有文件都是二进制形式存储\n",
    "- 形式上， 所有文件采用两种方式展示\n",
    "文件是数据的抽象和集合\n",
    "- 由单一特定编码组成的文件，如UTF-8编码\n",
    "- 由于存在编码，也被看成是存储着的长字符串\n",
    "- 适用于例如： .txt文件、 .py文件等\n",
    "文件是数据的抽象和集合\n",
    "- 直接由比特0和1组成， 没有统一字符编码\n",
    "- 一般存在二进制0和1的组织结构，即文件格式\n",
    "- 适用于例如： .png文件、 .avi文件等\n",
    "\n",
    "文件的打开关闭\n",
    "文件处理的步骤: 打开-操作-关闭\n",
    "打开: <变量名> = open(<文件名>, <打开模式>) \n",
    "\n",
    "文件的打开模式| 描述\n",
    "---|---\n",
    "'r' |只读模式，默认值，如果文件不存在，返回FileNotFoundError\n",
    "'w' |覆盖写模式，文件不存在则创建，存在则完全覆盖\n",
    "'x' |创建写模式，文件不存在则创建，存在则返回FileExistsError\n",
    "'a' |追加写模式，文件不存在则创建，存在则在文件最后追加内容\n",
    "'b' |二进制文件模式\n",
    "'t' |文本文件模式，默认值\n",
    "'+' |与r/w/x/a一同使用，在原功能基础上增加同时读写功能\n",
    "\n",
    "\n",
    "```\n",
    "f = open(\"f.txt\")- 文本形式、只读模式、默认值\n",
    "\n",
    "f = open(\"f.txt\", \"rt\")- 文本形式、只读模式、同默认值\n",
    "\n",
    "f = open(\"f.txt\", \"w\")- 文本形式、覆盖写模式\n",
    "\n",
    "f = open(\"f.txt\", \"a+\")- 文本形式、追加写模式+ 读文件\n",
    "\n",
    "f = open(\"f.txt\", \"x\")- 文本形式、 创建写模式\n",
    "\n",
    "f = open(\"f.txt\", \"b\")- 二进制形式、只读模式\n",
    "\n",
    "f = open(\"f.txt\", \"wb\")- 二进制形式、覆盖写模式\n",
    "```\n",
    "\n",
    "\n",
    "关闭：<变量名>.close()\n",
    "\n",
    "文件的操作\n",
    "\n",
    "操作方法|描述\n",
    "---|---\n",
    "<f>.read(size=-1)|读入全部内容，如果给出参数，读入前size长度\n",
    "<f>.readline(size=-1)|读入一行内容，如果给出参数，读入该行前size长度\n",
    "<f>.readlines(hint=-1)|读入文件所有行，以每行为元素形成列表如果给出参数，读入前hint行\n"
   ]
  },
  {
   "cell_type": "code",
   "execution_count": 11,
   "metadata": {},
   "outputs": [
    {
     "ename": "FileExistsError",
     "evalue": "[Errno 17] File exists: 'F:\\\\GitHub Clone\\\\BIT-PythonLearning\\\\BIT-PythonLearning\\\\FileTest\\\\FileTest.txt'",
     "output_type": "error",
     "traceback": [
      "\u001b[1;31m---------------------------------------------------------------------------\u001b[0m",
      "\u001b[1;31mFileExistsError\u001b[0m                           Traceback (most recent call last)",
      "\u001b[1;32m<ipython-input-11-42acdaa9ed60>\u001b[0m in \u001b[0;36m<module>\u001b[1;34m()\u001b[0m\n\u001b[1;32m----> 1\u001b[1;33m \u001b[0mpf\u001b[0m \u001b[1;33m=\u001b[0m \u001b[0mopen\u001b[0m\u001b[1;33m(\u001b[0m\u001b[1;34m\"F:\\\\GitHub Clone\\\\BIT-PythonLearning\\\\BIT-PythonLearning\\\\FileTest\\\\FileTest.txt\"\u001b[0m\u001b[1;33m,\u001b[0m\u001b[1;34m\"x\"\u001b[0m\u001b[1;33m)\u001b[0m\u001b[1;31m#创建文件\u001b[0m\u001b[1;33m\u001b[0m\u001b[0m\n\u001b[0m",
      "\u001b[1;31mFileExistsError\u001b[0m: [Errno 17] File exists: 'F:\\\\GitHub Clone\\\\BIT-PythonLearning\\\\BIT-PythonLearning\\\\FileTest\\\\FileTest.txt'"
     ]
    }
   ],
   "source": [
    "pf = open(\"F:\\\\GitHub Clone\\\\BIT-PythonLearning\\\\BIT-PythonLearning\\\\FileTest\\\\FileTest.txt\",\"x\")#创建文件，存在则返回FileExistsError"
   ]
  },
  {
   "cell_type": "code",
   "execution_count": 33,
   "metadata": {},
   "outputs": [],
   "source": [
    "pf = open(\"F:\\\\GitHub Clone\\\\BIT-PythonLearning\\\\BIT-PythonLearning\\\\FileTest\\\\FileTest.txt\",\"w\")#创建写\n",
    "pf.write(\"Python File Test\\n\")\n",
    "pf.write(\"By Sw Young\\n\")\n",
    "pf.close()"
   ]
  },
  {
   "cell_type": "code",
   "execution_count": 34,
   "metadata": {},
   "outputs": [
    {
     "name": "stdout",
     "output_type": "stream",
     "text": [
      "['Python File Test\\n', 'By Sw Young\\n']\n"
     ]
    }
   ],
   "source": [
    "pf = open(\"F:\\\\GitHub Clone\\\\BIT-PythonLearning\\\\BIT-PythonLearning\\\\FileTest\\\\FileTest.txt\",\"rt\")#文本形式打开\n",
    "print(pf.readlines())\n",
    "txt = pf.read()\n",
    "pf.close()"
   ]
  },
  {
   "cell_type": "code",
   "execution_count": 47,
   "metadata": {},
   "outputs": [
    {
     "name": "stdout",
     "output_type": "stream",
     "text": [
      "Python File Test\n",
      "\n",
      "By Sw Young\n",
      "\n"
     ]
    }
   ],
   "source": [
    "pf = open(\"F:\\\\GitHub Clone\\\\BIT-PythonLearning\\\\BIT-PythonLearning\\\\FileTest\\\\FileTest.txt\",\"rt\")#文本形式打开\n",
    "for line in pf: #循环打印文件内容\n",
    "    print(line)\n",
    "pf.close()"
   ]
  },
  {
   "cell_type": "code",
   "execution_count": null,
   "metadata": {},
   "outputs": [],
   "source": [
    "pf.close()"
   ]
  },
  {
   "cell_type": "code",
   "execution_count": 37,
   "metadata": {},
   "outputs": [
    {
     "ename": "IndexError",
     "evalue": "string index out of range",
     "output_type": "error",
     "traceback": [
      "\u001b[1;31m---------------------------------------------------------------------------\u001b[0m",
      "\u001b[1;31mIndexError\u001b[0m                                Traceback (most recent call last)",
      "\u001b[1;32m<ipython-input-37-0b7bfbb430f1>\u001b[0m in \u001b[0;36m<module>\u001b[1;34m()\u001b[0m\n\u001b[1;32m----> 1\u001b[1;33m \u001b[0mtxt\u001b[0m\u001b[1;33m[\u001b[0m\u001b[1;36m1\u001b[0m\u001b[1;33m]\u001b[0m\u001b[1;33m\u001b[0m\u001b[0m\n\u001b[0m",
      "\u001b[1;31mIndexError\u001b[0m: string index out of range"
     ]
    }
   ],
   "source": []
  },
  {
   "cell_type": "markdown",
   "metadata": {},
   "source": [
    "## 样例十一 自动轨迹绘制"
   ]
  },
  {
   "cell_type": "code",
   "execution_count": 12,
   "metadata": {},
   "outputs": [],
   "source": [
    "#AutoTraceDraw.py\n",
    "import turtle as t\n",
    "t.title('自动轨迹绘制')\n",
    "t.setup(800, 600, 0, 0)\n",
    "t.pencolor(\"red\")\n",
    "t.pensize(5)\n",
    "#数据读取\n",
    "datals = []\n",
    "f = open(\"data.txt\")\n",
    "for line in f:\n",
    "    line = line.replace(\"\\n\",\"\")\n",
    "    datals.append(list(map(eval, line.split(\",\"))))\n",
    "f.close()\n",
    "#自动绘制\n",
    "for i in range(len(datals)):\n",
    "    t.pencolor(datals[i][3],datals[i][4],datals[i][5])\n",
    "    t.fd(datals[i][0])\n",
    "    if datals[i][1]:\n",
    "        t.rt(datals[i][2])\n",
    "    else:\n",
    "        t.lt(datals[i][2])\n"
   ]
  },
  {
   "cell_type": "code",
   "execution_count": 48,
   "metadata": {},
   "outputs": [],
   "source": [
    "import os"
   ]
  },
  {
   "cell_type": "code",
   "execution_count": 49,
   "metadata": {},
   "outputs": [
    {
     "data": {
      "text/plain": [
       "'F:\\\\GitHub Clone\\\\BIT-PythonLearning\\\\BIT-PythonLearning'"
      ]
     },
     "execution_count": 49,
     "metadata": {},
     "output_type": "execute_result"
    }
   ],
   "source": [
    "os.getcwd()"
   ]
  },
  {
   "cell_type": "code",
   "execution_count": 53,
   "metadata": {},
   "outputs": [
    {
     "data": {
      "text/plain": [
       "['DEFAULT_DICT',\n",
       " 'DEFAULT_DICT_NAME',\n",
       " 'DICT_WRITING',\n",
       " 'PY2',\n",
       " 'Tokenizer',\n",
       " '__builtins__',\n",
       " '__cached__',\n",
       " '__doc__',\n",
       " '__file__',\n",
       " '__license__',\n",
       " '__loader__',\n",
       " '__name__',\n",
       " '__package__',\n",
       " '__path__',\n",
       " '__spec__',\n",
       " '__version__',\n",
       " '_compat',\n",
       " '_get_abs_path',\n",
       " '_lcut',\n",
       " '_lcut_all',\n",
       " '_lcut_for_search',\n",
       " '_lcut_for_search_no_hmm',\n",
       " '_lcut_no_hmm',\n",
       " '_pcut',\n",
       " '_pcut_for_search',\n",
       " '_replace_file',\n",
       " 'absolute_import',\n",
       " 'add_word',\n",
       " 'calc',\n",
       " 'cut',\n",
       " 'cut_for_search',\n",
       " 'default_encoding',\n",
       " 'default_logger',\n",
       " 'del_word',\n",
       " 'disable_parallel',\n",
       " 'dt',\n",
       " 'enable_parallel',\n",
       " 'finalseg',\n",
       " 'get_DAG',\n",
       " 'get_FREQ',\n",
       " 'get_dict_file',\n",
       " 'get_module_res',\n",
       " 'initialize',\n",
       " 'iteritems',\n",
       " 'iterkeys',\n",
       " 'itervalues',\n",
       " 'lcut',\n",
       " 'lcut_for_search',\n",
       " 'load_userdict',\n",
       " 'log',\n",
       " 'log_console',\n",
       " 'logging',\n",
       " 'marshal',\n",
       " 'md5',\n",
       " 'os',\n",
       " 'pkg_resources',\n",
       " 'pool',\n",
       " 're',\n",
       " 're_eng',\n",
       " 're_han_cut_all',\n",
       " 're_han_default',\n",
       " 're_skip_cut_all',\n",
       " 're_skip_default',\n",
       " 're_userdict',\n",
       " 'resolve_filename',\n",
       " 'setLogLevel',\n",
       " 'set_dictionary',\n",
       " 'strdecode',\n",
       " 'string_types',\n",
       " 'suggest_freq',\n",
       " 'sys',\n",
       " 'tempfile',\n",
       " 'text_type',\n",
       " 'threading',\n",
       " 'time',\n",
       " 'tokenize',\n",
       " 'unicode_literals',\n",
       " 'user_word_tag_tab',\n",
       " 'xrange']"
      ]
     },
     "execution_count": 53,
     "metadata": {},
     "output_type": "execute_result"
    }
   ],
   "source": [
    "import jieba\n",
    "dir(jieba)"
   ]
  },
  {
   "cell_type": "code",
   "execution_count": 55,
   "metadata": {},
   "outputs": [
    {
     "data": {
      "text/plain": [
       "['_STRUCT_TM_ITEMS',\n",
       " '__doc__',\n",
       " '__loader__',\n",
       " '__name__',\n",
       " '__package__',\n",
       " '__spec__',\n",
       " 'altzone',\n",
       " 'asctime',\n",
       " 'clock',\n",
       " 'ctime',\n",
       " 'daylight',\n",
       " 'get_clock_info',\n",
       " 'gmtime',\n",
       " 'localtime',\n",
       " 'mktime',\n",
       " 'monotonic',\n",
       " 'perf_counter',\n",
       " 'process_time',\n",
       " 'sleep',\n",
       " 'strftime',\n",
       " 'strptime',\n",
       " 'struct_time',\n",
       " 'time',\n",
       " 'timezone',\n",
       " 'tzname']"
      ]
     },
     "execution_count": 55,
     "metadata": {},
     "output_type": "execute_result"
    }
   ],
   "source": [
    "import time\n",
    "dir(time)"
   ]
  },
  {
   "cell_type": "markdown",
   "metadata": {},
   "source": [
    "## 样例十二 词云"
   ]
  },
  {
   "cell_type": "code",
   "execution_count": 7,
   "metadata": {},
   "outputs": [
    {
     "data": {
      "text/plain": [
       "<wordcloud.wordcloud.WordCloud at 0x1f057b5e128>"
      ]
     },
     "execution_count": 7,
     "metadata": {},
     "output_type": "execute_result"
    }
   ],
   "source": [
    "#制作hamlet的词云\n",
    "import wordcloud\n",
    "pf = open(\"hamlet.txt\")#文本形式打开\n",
    "txt = pf.read()\n",
    "pf.close()\n",
    "w = wordcloud.WordCloud()\n",
    "w = wordcloud.WordCloud(background_color=\"black\")\n",
    "w = wordcloud.WordCloud(max_words=\"200\")\n",
    "w=wordcloud.WordCloud(width = 1000,height= 800)\n",
    "w.generate(txt)\n",
    "w.to_file(\"pywordcloud_hamlet.png\")"
   ]
  },
  {
   "cell_type": "code",
   "execution_count": 3,
   "metadata": {},
   "outputs": [
    {
     "data": {
      "text/plain": [
       "<wordcloud.wordcloud.WordCloud at 0x19a353d3f98>"
      ]
     },
     "execution_count": 3,
     "metadata": {},
     "output_type": "execute_result"
    }
   ],
   "source": [
    "#制作三国演义的词云\n",
    "import wordcloud\n",
    "import jieba\n",
    "import codecs\n",
    "pf = codecs.open(\"jingxuan.txt\",encoding=\"utf-8\")#文本形式打开\n",
    "txt = pf.read()\n",
    "pf.close()\n",
    "\n",
    "w = wordcloud.WordCloud()\n",
    "w = wordcloud.WordCloud( width=1500,\\\n",
    "font_path=\"msyh.ttc\",height=800)\n",
    "w.generate(\" \".join(jieba.lcut(txt))) #中文需要先分词并组成空格分隔字符串\n",
    "w.to_file(\"pywordcloud_jingxuan.png\")"
   ]
  },
  {
   "cell_type": "code",
   "execution_count": 3,
   "metadata": {},
   "outputs": [
    {
     "data": {
      "text/plain": [
       "<wordcloud.wordcloud.WordCloud at 0x1ed96e659b0>"
      ]
     },
     "execution_count": 3,
     "metadata": {},
     "output_type": "execute_result"
    }
   ],
   "source": [
    "#竞选演讲词云\n",
    "import wordcloud\n",
    "import jieba\n",
    "import codecs\n",
    "pf = codecs.open(\"threekingdoms.txt\",encoding=\"utf-8\")#文本形式打开\n",
    "txt = pf.read()\n",
    "pf.close()\n",
    "\n",
    "w = wordcloud.WordCloud()\n",
    "w = wordcloud.WordCloud( width=800,\\\n",
    "font_path=\"msyh.ttc\",height=600)\n",
    "w.generate(\" \".join(jieba.lcut(txt))) #中文需要先分词并组成空格分隔字符串\n",
    "w.to_file(\"pywordcloud_threekingdoms.png\")"
   ]
  },
  {
   "cell_type": "code",
   "execution_count": 5,
   "metadata": {},
   "outputs": [
    {
     "data": {
      "text/plain": [
       "<wordcloud.wordcloud.WordCloud at 0x1f057b5cc50>"
      ]
     },
     "execution_count": 5,
     "metadata": {},
     "output_type": "execute_result"
    }
   ],
   "source": [
    "# 中文词云\n",
    "import jieba\n",
    "import wordcloud\n",
    "txt = \"程序设计语言是计算机能够理解和\\\n",
    "识别用户操作意图的一种交互体系，它按照\\\n",
    "特定规则组织计算机指令，使计算机能够自\\\n",
    "动进行各种运算处理。 \"\n",
    "w = wordcloud.WordCloud( width=1000,\\\n",
    "font_path=\"msyh.ttc\",height=700)\n",
    "w.generate(\" \".join(jieba.lcut(txt)))\n",
    "w.to_file(\"pywcloud.png\")"
   ]
  },
  {
   "cell_type": "code",
   "execution_count": 62,
   "metadata": {},
   "outputs": [
    {
     "data": {
      "text/plain": [
       "<wordcloud.wordcloud.WordCloud at 0x19bd0070550>"
      ]
     },
     "execution_count": 62,
     "metadata": {},
     "output_type": "execute_result"
    }
   ],
   "source": [
    "#GovRptWordCloudv1.py\n",
    "import jieba\n",
    "import wordcloud\n",
    "f = open(\"新时代中国特色社会主义.txt\", \"r\", encoding=\"utf-8\")\n",
    "\n",
    "t = f.read()\n",
    "f.close()\n",
    "ls = jieba.lcut(t)\n",
    "\n",
    "txt = \" \".join(ls)\n",
    "w = wordcloud.WordCloud( \\\n",
    "    width = 1000, height = 700,\\\n",
    "    background_color = \"white\",\n",
    "    font_path = \"msyh.ttc\"    \n",
    "    )\n",
    "w.generate(txt)\n",
    "w.to_file(\"grwordcloud.png\")\n",
    "\n"
   ]
  },
  {
   "cell_type": "code",
   "execution_count": 63,
   "metadata": {},
   "outputs": [
    {
     "data": {
      "text/plain": [
       "<wordcloud.wordcloud.WordCloud at 0x19bd023b208>"
      ]
     },
     "execution_count": 63,
     "metadata": {},
     "output_type": "execute_result"
    }
   ],
   "source": [
    "#GovRptWordCloudv1.py\n",
    "import jieba\n",
    "import wordcloud\n",
    "f = open(\"关于实施乡村振兴战略的意见.txt\", \"r\", encoding=\"utf-8\")\n",
    "\n",
    "t = f.read()\n",
    "f.close()\n",
    "ls = jieba.lcut(t)\n",
    "\n",
    "txt = \" \".join(ls)\n",
    "w = wordcloud.WordCloud( \\\n",
    "    width = 1000, height = 700,\\\n",
    "    background_color = \"white\",\n",
    "    font_path = \"msyh.ttc\"    \n",
    "    )\n",
    "w.generate(txt)\n",
    "w.to_file(\"grwordcloud.png\")\n",
    "\n"
   ]
  },
  {
   "cell_type": "code",
   "execution_count": null,
   "metadata": {},
   "outputs": [],
   "source": []
  },
  {
   "cell_type": "code",
   "execution_count": null,
   "metadata": {},
   "outputs": [],
   "source": []
  }
 ],
 "metadata": {
  "kernelspec": {
   "display_name": "Python 3",
   "language": "python",
   "name": "python3"
  },
  "language_info": {
   "codemirror_mode": {
    "name": "ipython",
    "version": 3
   },
   "file_extension": ".py",
   "mimetype": "text/x-python",
   "name": "python",
   "nbconvert_exporter": "python",
   "pygments_lexer": "ipython3",
   "version": "3.6.4"
  }
 },
 "nbformat": 4,
 "nbformat_minor": 2
}
