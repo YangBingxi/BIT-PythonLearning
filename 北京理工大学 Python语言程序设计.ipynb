{
 "cells": [
  {
   "cell_type": "markdown",
   "metadata": {},
   "source": [
    "# 北京理工大学 Python语言程序设计    "
   ]
  },
  {
   "cell_type": "markdown",
   "metadata": {},
   "source": [
    "##  样例一 温度转换程序"
   ]
  },
  {
   "cell_type": "code",
   "execution_count": 6,
   "metadata": {},
   "outputs": [
    {
     "name": "stdout",
     "output_type": "stream",
     "text": [
      "请输入带有符号的温度值: 12C\n",
      "转换后的温度是53.60F\n"
     ]
    }
   ],
   "source": [
    "#TempConvert.py\n",
    "TempStr = input(\"请输入带有符号的温度值: \")\n",
    "if TempStr[-1] in ['F', 'f']:\n",
    "    C = (eval(TempStr[0:-1]) - 32)/1.8\n",
    "    print(\"转换后的温度是{:.2f}C\".format(C))\n",
    "elif TempStr[-1] in ['C', 'c']:\n",
    "    F = 1.8*eval(TempStr[0:-1]) + 32\n",
    "    print(\"转换后的温度是{:.2f}F\".format(F))\n",
    "else:\n",
    "    print(\"输入格式错误\")"
   ]
  },
  {
   "cell_type": "markdown",
   "metadata": {},
   "source": [
    "## 样例二 绘图 "
   ]
  },
  {
   "cell_type": "code",
   "execution_count": 9,
   "metadata": {},
   "outputs": [],
   "source": [
    "#PythonDraw.py\n",
    "import turtle\n",
    "turtle.setup(650, 350, 200, 200)\n",
    "turtle.penup()\n",
    "turtle.fd(-250)\n",
    "turtle.pendown()\n",
    "turtle.pensize(25)\n",
    "turtle.pencolor(\"red\")\n",
    "turtle.seth(-40)\n",
    "for i in range(4):\n",
    "    turtle.circle(40, 80)\n",
    "    turtle.circle(-40, 80)\n",
    "turtle.circle(40, 80/2)\n",
    "turtle.fd(40)\n",
    "turtle.circle(16, 180)\n",
    "turtle.fd(40 * 2/3)\n",
    "turtle.done()"
   ]
  },
  {
   "cell_type": "markdown",
   "metadata": {},
   "source": [
    "### turtle函数库"
   ]
  },
  {
   "cell_type": "markdown",
   "metadata": {},
   "source": [
    "```turtle.setup(width, height, startx, starty)```\n",
    "- setup()设置窗体大小及位置\n",
    "- 4个参数中后两个可选，没有后两个参数的默认窗体在屏幕中心\n",
    "- setup()不是必须的   \n",
    "---\n",
    "turtle.goto( x, y)\n",
    "![](https://note.youdao.com/yws/res/9439/WEBRESOURCE2ab70cb2502c757e9a2eb48360e0908a)\n",
    "\n",
    "\n",
    "turtle.seth(angle)\n",
    "- seth()改变海龟行进方向\n",
    "- angle为绝对度数\n",
    "- seth()只改变方向但不行进\n",
    "\n",
    "![](https://note.youdao.com/yws/res/9440/WEBRESOURCE525fccacf18c053d0595a46e5168ce27)\n",
    "\n",
    "\n",
    "turtle.fd(distance)\n",
    "Move the turtle forward by the specified distance.\n",
    "\n",
    "\n",
    "turtle.left(angle)\n",
    "Turn turtle left by angle units.\n",
    "\n",
    "turtle.right(angle)\n",
    "Turn turtle right by angle units.\n",
    "\n",
    "#### 画笔控制函数\n",
    "画笔操作后一直有效，一般成对出现\n",
    "画笔设置后一直有效，直至下次重新设置\n",
    "- turtle.penup() 别名 turtle.pu()\n",
    "抬起画笔，海龟在飞行\n",
    "- turtle.pendown() 别名 turtle.pd()\n",
    "落下画笔，海龟在爬行  \n",
    "- turtle.pensize(width) 别名 turtle.width(width)\n",
    "画笔宽度，海龟的腰围\n",
    "- turtle.pencolor(color) color为颜色字符串或r,g,b值\n",
    "画笔颜色，海龟在涂装\n",
    "\n",
    "pencolor(color)的color参与可以有三种形式\n",
    "- 颜色字符串 ：turtle.pencolor(\"purple\")\n",
    "- RGB的小数值：turtle.pencolor(0.63, 0.13, 0.94)\n",
    "- RGB的元组值：turtle.pencolor((0.63,0.13,0.94))\n",
    "\n",
    "### 运动控制函数\n",
    "控制海龟行进：走直线 & 走曲线\n",
    "- turtle.forward(d) 别名 turtle.fd(d)\n",
    "向前行进，海龟走直线\n",
    "- d: 行进距离，可以为负数\n",
    "\n",
    "- turtle.circle(r, extent=None)\n",
    "根据半径r绘制extent角度的弧形\n",
    "- r: 默认圆心在海龟左侧r距离的位置\n",
    "- extent: 绘制角度，默认是360度整圆\n",
    "\n",
    "- turtle.forward(d) 别名 turtle.fd(d)\n",
    "向前行进，海龟走直线\n",
    "- d: 行进距离，可以为负数\n",
    "\n",
    "###  方向控制函数\n",
    "控制海龟面对方向: 绝对角度 & 海龟角度\n",
    "turtle.setheading(angle) 别名 turtle.seth(angle)\n",
    "改变行进方向，海龟走角度\n",
    "- angle: 行进方向的绝对角度\n",
    "\n",
    "- turtle.left(angle) 海龟向左转\n",
    "- turtle.right(angle) 海龟向右转\n",
    "- angle: 在海龟当前行进方向上旋转的角度\n"
   ]
  },
  {
   "cell_type": "markdown",
   "metadata": {},
   "source": [
    "### RGB色彩模式\n",
    "#### 由三种颜色构成的万物色\n",
    "- RGB指红蓝绿三个通道的颜色组合\n",
    "- 覆盖视力所能感知的所有颜色\n",
    "- RGB每色取值范围0-255整数或0-1小数\n",
    "\n",
    "#### 常用RGB色彩\n",
    "英文名称 |RGB整数值 |RGB小数值 |中文名称\n",
    "---|---|---|---\n",
    "white |255, 255, 255 |1, 1, 1 |白色\n",
    "yellow |255, 255, 0 |1, 1, 0 |黄色\n",
    "magenta |255, 0, 255| 1, 0, 1 |洋红\n",
    "cyan |0, 255, 255| 0, 1, 1 |青色\n",
    "blue |0, 0, 255 |0, 0, 1 |蓝色\n",
    "black |0, 0, 0 |0, 0, 0 |黑色\n",
    "seashell |255, 245, 238 |1, 0.96, 0.93 |海贝色\n",
    "gold |255, 215, 0 |1, 0.84, 0 |金色\n",
    "pink |255, 192, 203 |1, 0.75, 0.80 |粉红色\n",
    "brown |165, 42, 42| 0.65, 0.16, 0.16| 棕色\n",
    "purple |160, 32, 240 |0.63, 0.13, 0.94| 紫色\n",
    "tomato |255, 99, 71 |1, 0.39, 0.28 |番茄色\n",
    "\n",
    "\n",
    "turtle的RGB色彩模式\n",
    "默认采用小数值 可切换为整数值\n",
    "```turtle.colormode(mode)```\n",
    "- 1.0：RGB小数值模式\n",
    "- 255：RGB整数值模式\n"
   ]
  },
  {
   "cell_type": "code",
   "execution_count": 13,
   "metadata": {},
   "outputs": [],
   "source": [
    "#画一个五边形\n",
    "import turtle\n",
    "turtle.goto( 100, 100)\n",
    "turtle.goto( 100,-100)\n",
    "turtle.goto(-100,-100)\n",
    "turtle.goto(-100, 100)\n",
    "turtle.goto(0,0)\n",
    "turtle.done()"
   ]
  },
  {
   "cell_type": "code",
   "execution_count": 35,
   "metadata": {},
   "outputs": [],
   "source": [
    "#画一个五角星\n",
    "import turtle\n",
    "turtle.pencolor(\"red\")\n",
    "turtle.goto( 100, 200)\n",
    "turtle.goto( 200,0)\n",
    "turtle.goto(-30,140)\n",
    "turtle.goto(230, 140)\n",
    "turtle.goto(0,0)\n"
   ]
  },
  {
   "cell_type": "code",
   "execution_count": 1,
   "metadata": {},
   "outputs": [],
   "source": [
    "import turtle\n",
    "turtle.left(45)\n",
    "turtle.fd(150)\n",
    "turtle.right(135)\n",
    "turtle.fd(300)\n",
    "turtle.left(135)\n",
    "turtle.fd(150)"
   ]
  },
  {
   "cell_type": "code",
   "execution_count": 4,
   "metadata": {},
   "outputs": [],
   "source": [
    "import turtle\n",
    "?turtle.left()\n",
    "#turtle.fd"
   ]
  },
  {
   "cell_type": "code",
   "execution_count": null,
   "metadata": {},
   "outputs": [],
   "source": []
  }
 ],
 "metadata": {
  "kernelspec": {
   "display_name": "Python 3",
   "language": "python",
   "name": "python3"
  },
  "language_info": {
   "codemirror_mode": {
    "name": "ipython",
    "version": 3
   },
   "file_extension": ".py",
   "mimetype": "text/x-python",
   "name": "python",
   "nbconvert_exporter": "python",
   "pygments_lexer": "ipython3",
   "version": "3.6.4"
  }
 },
 "nbformat": 4,
 "nbformat_minor": 2
}
